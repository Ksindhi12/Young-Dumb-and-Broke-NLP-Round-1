{
 "cells": [
  {
   "cell_type": "code",
   "execution_count": 1,
   "metadata": {},
   "outputs": [
    {
     "name": "stderr",
     "output_type": "stream",
     "text": [
      "[nltk_data] Downloading package punkt to\n",
      "[nltk_data]     C:\\Users\\psoma\\AppData\\Roaming\\nltk_data...\n",
      "[nltk_data]   Package punkt is already up-to-date!\n",
      "[nltk_data] Downloading package stopwords to\n",
      "[nltk_data]     C:\\Users\\psoma\\AppData\\Roaming\\nltk_data...\n",
      "[nltk_data]   Package stopwords is already up-to-date!\n"
     ]
    },
    {
     "ename": "ModuleNotFoundError",
     "evalue": "No module named 'wordcloud'",
     "output_type": "error",
     "traceback": [
      "\u001b[1;31m---------------------------------------------------------------------------\u001b[0m",
      "\u001b[1;31mModuleNotFoundError\u001b[0m                       Traceback (most recent call last)",
      "\u001b[1;32mc:\\Users\\psoma\\OneDrive\\Documents\\GitHub\\Young-Dumb-and-Broke-NLP-Round-1\\Execution.ipynb Cell 1\u001b[0m line \u001b[0;36m4\n\u001b[0;32m      <a href='vscode-notebook-cell:/c%3A/Users/psoma/OneDrive/Documents/GitHub/Young-Dumb-and-Broke-NLP-Round-1/Execution.ipynb#W0sZmlsZQ%3D%3D?line=1'>2</a>\u001b[0m \u001b[39mfrom\u001b[39;00m \u001b[39mtokenization\u001b[39;00m \u001b[39mimport\u001b[39;00m runTokenization\n\u001b[0;32m      <a href='vscode-notebook-cell:/c%3A/Users/psoma/OneDrive/Documents/GitHub/Young-Dumb-and-Broke-NLP-Round-1/Execution.ipynb#W0sZmlsZQ%3D%3D?line=2'>3</a>\u001b[0m \u001b[39mfrom\u001b[39;00m \u001b[39mstop_words_removal\u001b[39;00m \u001b[39mimport\u001b[39;00m removeStopWords\n\u001b[1;32m----> <a href='vscode-notebook-cell:/c%3A/Users/psoma/OneDrive/Documents/GitHub/Young-Dumb-and-Broke-NLP-Round-1/Execution.ipynb#W0sZmlsZQ%3D%3D?line=3'>4</a>\u001b[0m \u001b[39mfrom\u001b[39;00m \u001b[39mfreq_distribution_of_tokens\u001b[39;00m \u001b[39mimport\u001b[39;00m PrintFrequencyDistribution, VisualiseFrequencyDistribution\n\u001b[0;32m      <a href='vscode-notebook-cell:/c%3A/Users/psoma/OneDrive/Documents/GitHub/Young-Dumb-and-Broke-NLP-Round-1/Execution.ipynb#W0sZmlsZQ%3D%3D?line=5'>6</a>\u001b[0m orignalFile \u001b[39m=\u001b[39m \u001b[39mopen\u001b[39m(\u001b[39m'\u001b[39m\u001b[39mPride_and_Prejudice.txt\u001b[39m\u001b[39m'\u001b[39m, \u001b[39m'\u001b[39m\u001b[39mr\u001b[39m\u001b[39m'\u001b[39m)\n\u001b[0;32m      <a href='vscode-notebook-cell:/c%3A/Users/psoma/OneDrive/Documents/GitHub/Young-Dumb-and-Broke-NLP-Round-1/Execution.ipynb#W0sZmlsZQ%3D%3D?line=6'>7</a>\u001b[0m content \u001b[39m=\u001b[39m orignalFile\u001b[39m.\u001b[39mread()\n",
      "File \u001b[1;32mc:\\Users\\psoma\\OneDrive\\Documents\\GitHub\\Young-Dumb-and-Broke-NLP-Round-1\\freq_distribution_of_tokens.py:1\u001b[0m\n\u001b[1;32m----> 1\u001b[0m \u001b[39mfrom\u001b[39;00m \u001b[39mwordcloud\u001b[39;00m \u001b[39mimport\u001b[39;00m WordCloud, STOPWORDS\n\u001b[0;32m      2\u001b[0m \u001b[39mimport\u001b[39;00m \u001b[39mnltk\u001b[39;00m\n\u001b[0;32m      3\u001b[0m \u001b[39mimport\u001b[39;00m \u001b[39mpandas\u001b[39;00m\n",
      "\u001b[1;31mModuleNotFoundError\u001b[0m: No module named 'wordcloud'"
     ]
    }
   ],
   "source": [
    "from pre_processing import runPreprocessing\n",
    "from tokenization import runTokenization\n",
    "from stop_words_removal import removeStopWords\n",
    "from freq_distribution_of_tokens import PrintFrequencyDistribution, VisualiseFrequencyDistribution\n",
    "\n",
    "orignalFile = open('Pride_and_Prejudice.txt', 'r')\n",
    "content = orignalFile.read()\n",
    "\n",
    "preprocessedTextChapters = runPreprocessing(content)\n",
    "\n",
    "preprocessedText= \"\"\n",
    "for i in preprocessedTextChapters:\n",
    "    preprocessedText = preprocessedText + i + \"\\n\"\n",
    "\n",
    "tokenizedText = runTokenization(preprocessedText)\n",
    "print(len(removeStopWords(tokenizedText)))\n",
    "\n",
    "finalTokenizedText = removeStopWords(tokenizedText)\n",
    "\n",
    "PrintFrequencyDistribution(finalTokenizedText)\n",
    "VisualiseFrequencyDistribution(finalTokenizedText)\n",
    "\n",
    "\n",
    "\n"
   ]
  }
 ],
 "metadata": {
  "kernelspec": {
   "display_name": "Python 3",
   "language": "python",
   "name": "python3"
  },
  "language_info": {
   "codemirror_mode": {
    "name": "ipython",
    "version": 3
   },
   "file_extension": ".py",
   "mimetype": "text/x-python",
   "name": "python",
   "nbconvert_exporter": "python",
   "pygments_lexer": "ipython3",
   "version": "3.12.0"
  }
 },
 "nbformat": 4,
 "nbformat_minor": 2
}
